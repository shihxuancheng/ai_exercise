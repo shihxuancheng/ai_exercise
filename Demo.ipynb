{
 "cells": [
  {
   "cell_type": "code",
   "execution_count": null,
   "metadata": {},
   "outputs": [],
   "source": [
    "#%matplotlib inline\n",
    "import sys\n",
    "from os.path import abspath, join, dirname\n",
    "sys.path.insert(0, join(abspath(dirname(\".\")), 'src'))"
   ]
  },
  {
   "cell_type": "code",
   "execution_count": null,
   "metadata": {},
   "outputs": [],
   "source": [
    "#raw data\n",
    "import dataset_utils as dUtil\n",
    "df_qa = dUtil.load_raw_df()\n",
    "df_qa"
   ]
  },
  {
   "cell_type": "code",
   "execution_count": null,
   "metadata": {
    "scrolled": false
   },
   "outputs": [],
   "source": [
    "#資料預處理並視覺化呈現分詞結果\n",
    "import tfidf_cosin_similar as tfidf\n",
    "from wordcloud import WordCloud\n",
    "from matplotlib import pyplot as plt\n",
    "from collections import Counter\n",
    "\n",
    "df_qa1 = tfidf.preProcess()\n",
    "words = []\n",
    "for word in df_qa1['processed']:\n",
    "    words.extend(word)\n",
    "\n",
    "#print(Counter(words))    \n",
    "    \n",
    "wordcloud = WordCloud(font_path=\"resources/simsun.ttf\",background_color=\"white\", max_words = 20000)\n",
    "wordcloud.generate_from_frequencies(frequencies=Counter(words))\n",
    "plt.figure(figsize=(16,10))\n",
    "plt.imshow(wordcloud, interpolation=\"bilinear\")\n",
    "plt.axis(\"off\")\n",
    "plt.show()    \n",
    "\n",
    "df_qa1"
   ]
  },
  {
   "cell_type": "code",
   "execution_count": null,
   "metadata": {},
   "outputs": [],
   "source": [
    "#case-1 tfidf + cosin similarity\n",
    "import tfidf_cosin_similar as tfidf\n",
    "\n",
    "question = u'請問要申請WDAMS107可以找誰?'\n",
    "tfidf.preProcess()\n",
    "tfidf.tfidf_similarity(question,numOfReturn=5)#返回最相似前5筆"
   ]
  },
  {
   "cell_type": "code",
   "execution_count": null,
   "metadata": {},
   "outputs": [],
   "source": [
    "#case-2 lsi similarity\n",
    "import gensim_lsi as lsi\n",
    "\n",
    "question = u'請問要申請WDAMS107可以找誰?'\n",
    "lsi.preProcess()\n",
    "lsi.lsi_similarity(question,numOfReturn=5)#返回最相似前5筆"
   ]
  }
 ],
 "metadata": {
  "kernelspec": {
   "display_name": "Python 3",
   "language": "python",
   "name": "python3"
  },
  "language_info": {
   "codemirror_mode": {
    "name": "ipython",
    "version": 3
   },
   "file_extension": ".py",
   "mimetype": "text/x-python",
   "name": "python",
   "nbconvert_exporter": "python",
   "pygments_lexer": "ipython3",
   "version": "3.7.1"
  }
 },
 "nbformat": 4,
 "nbformat_minor": 2
}
