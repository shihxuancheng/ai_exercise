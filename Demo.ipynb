{
 "cells": [
  {
   "cell_type": "code",
   "execution_count": 1,
   "metadata": {},
   "outputs": [],
   "source": [
    "import sys\n",
    "from os.path import abspath, join, dirname\n",
    "sys.path.insert(0, join(abspath(dirname(\".\")), 'src'))"
   ]
  },
  {
   "cell_type": "code",
   "execution_count": null,
   "metadata": {
    "scrolled": false
   },
   "outputs": [],
   "source": [
    "#資料預處理\n",
    "import dataset_utils as dUtil\n",
    "import tfidf_cosin_similar as tfidf\n",
    "df_qa = dUtil.load_raw_df()\n",
    "df_qa1 = tfidf.preProcess()\n",
    "df_qa1"
   ]
  },
  {
   "cell_type": "code",
   "execution_count": null,
   "metadata": {
    "scrolled": false
   },
   "outputs": [],
   "source": [
    "from collections import Counter\n",
    "#視覺化呈現分詞結果\n",
    "\n",
    "sorted(Counter(all_words.items()), key=lambda x:x[1], reverse=True)\n"
   ]
  },
  {
   "cell_type": "code",
   "execution_count": 25,
   "metadata": {},
   "outputs": [
    {
     "name": "stdout",
     "output_type": "stream",
     "text": [
      "相似第1名:  請問我一直收到這個系統信件是什麼意思-WDSEC116 Pending Grant/Revoke Jobs, User=M9308, ID=138677\n",
      "相似度:  0.582829736533729\n",
      "----------------------------\n",
      "相似第2名:  請問我想建置一個新的JOB CODE 要由誰建置\n",
      "相似度:  0.4562843379558763\n",
      "----------------------------\n",
      "相似第3名:  我已經申請程式,系統種子人員也批核了,但為何還是看不到程式\n",
      "相似度:  0.36284780449666854\n",
      "----------------------------\n",
      "相似第4名:  請問我收到這個WDSEC118 Grant/Revoke Jobs Completed, user=CN25000117, ID=61122 是什麼意思\n",
      "相似度:  0.323664444612747\n",
      "----------------------------\n",
      "相似第5名:  如果我只是想要某段時間代理某人的一支程式有辦法嗎\n",
      "相似度:  0.3009628975692718\n",
      "----------------------------\n"
     ]
    },
    {
     "data": {
      "text/html": [
       "<div>\n",
       "<style scoped>\n",
       "    .dataframe tbody tr th:only-of-type {\n",
       "        vertical-align: middle;\n",
       "    }\n",
       "\n",
       "    .dataframe tbody tr th {\n",
       "        vertical-align: top;\n",
       "    }\n",
       "\n",
       "    .dataframe thead th {\n",
       "        text-align: right;\n",
       "    }\n",
       "</style>\n",
       "<table border=\"1\" class=\"dataframe\">\n",
       "  <thead>\n",
       "    <tr style=\"text-align: right;\">\n",
       "      <th></th>\n",
       "      <th>question</th>\n",
       "      <th>ans</th>\n",
       "      <th>similarity</th>\n",
       "    </tr>\n",
       "  </thead>\n",
       "  <tbody>\n",
       "    <tr>\n",
       "      <th>148.0</th>\n",
       "      <td>請問我一直收到這個系統信件是什麼意思-WDSEC116 Pending Grant/Revo...</td>\n",
       "      <td>這是在說您有登入申請WDSEC116,但未按Apply 將單子送出,如果這筆申請無需要了,也...</td>\n",
       "      <td>0.582830</td>\n",
       "    </tr>\n",
       "    <tr>\n",
       "      <th>126.0</th>\n",
       "      <td>請問我想建置一個新的JOB CODE 要由誰建置</td>\n",
       "      <td>初始的一個新的JOB CODE 請電郵至sec_support@wanhai.com 請SE...</td>\n",
       "      <td>0.456284</td>\n",
       "    </tr>\n",
       "    <tr>\n",
       "      <th>97.0</th>\n",
       "      <td>我已經申請程式,系統種子人員也批核了,但為何還是看不到程式</td>\n",
       "      <td>請按鍵盤的F5 重新刷新MENU,如再不行請致電郵SEC_SUPPORT@WANHAI.COM</td>\n",
       "      <td>0.362848</td>\n",
       "    </tr>\n",
       "    <tr>\n",
       "      <th>123.0</th>\n",
       "      <td>請問我收到這個WDSEC118 Grant/Revoke Jobs Completed, u...</td>\n",
       "      <td>這代表您剛才透過WDSEC116 申請的程式已經全部批核完畢</td>\n",
       "      <td>0.323664</td>\n",
       "    </tr>\n",
       "    <tr>\n",
       "      <th>136.0</th>\n",
       "      <td>如果我只是想要某段時間代理某人的一支程式有辦法嗎</td>\n",
       "      <td>煩請電郵SEC_SUPPORT@WANHAI.COM 在WDSEC126 中幫您設定</td>\n",
       "      <td>0.300963</td>\n",
       "    </tr>\n",
       "  </tbody>\n",
       "</table>\n",
       "</div>"
      ],
      "text/plain": [
       "                                                question  \\\n",
       "148.0  請問我一直收到這個系統信件是什麼意思-WDSEC116 Pending Grant/Revo...   \n",
       "126.0                           請問我想建置一個新的JOB CODE 要由誰建置   \n",
       "97.0                       我已經申請程式,系統種子人員也批核了,但為何還是看不到程式   \n",
       "123.0  請問我收到這個WDSEC118 Grant/Revoke Jobs Completed, u...   \n",
       "136.0                           如果我只是想要某段時間代理某人的一支程式有辦法嗎   \n",
       "\n",
       "                                                     ans  similarity  \n",
       "148.0  這是在說您有登入申請WDSEC116,但未按Apply 將單子送出,如果這筆申請無需要了,也...    0.582830  \n",
       "126.0  初始的一個新的JOB CODE 請電郵至sec_support@wanhai.com 請SE...    0.456284  \n",
       "97.0     請按鍵盤的F5 重新刷新MENU,如再不行請致電郵SEC_SUPPORT@WANHAI.COM    0.362848  \n",
       "123.0                     這代表您剛才透過WDSEC116 申請的程式已經全部批核完畢    0.323664  \n",
       "136.0         煩請電郵SEC_SUPPORT@WANHAI.COM 在WDSEC126 中幫您設定    0.300963  "
      ]
     },
     "execution_count": 25,
     "metadata": {},
     "output_type": "execute_result"
    }
   ],
   "source": [
    "#case-1 tfidf + cosin similar\n",
    "import tfidf_cosin_similar as tfidf\n",
    "\n",
    "question = u'請問要申請WDAMS107可以找誰?'\n",
    "tfidf.preProcess()\n",
    "tfidf.lookup(question)\n"
   ]
  },
  {
   "cell_type": "code",
   "execution_count": 27,
   "metadata": {},
   "outputs": [
    {
     "name": "stdout",
     "output_type": "stream",
     "text": [
      "相似第1名:  我想要申請5支AMS,7支CMR 的程式要如何申請\n",
      "答案:  盡量避免單支單支申請,盡量用job code 或者是pnl 的job code,避免未來組織異動時,仍需要再申請一次,可以先透過WDSEC206 這支程式先行去看要申請那個JOB CODE合宜\n",
      "相似度: 0.7822995\n",
      "----------------------------\n",
      "相似第2名:  我想要申請WDECS225,請問要如何申請\n",
      "答案:  請使用WDSEC116 申請\n",
      "相似度: 0.76557636\n",
      "----------------------------\n",
      "相似第3名:  請問如何知道我申請的程式,已經完全批核完畢\n",
      "答案:  請到WDSEC116,Query 出APPLY_ID 單號,如果Status 上顯示OK,則表示已經全部批核完畢(請參照圖示說明)\n",
      "相似度: 0.73301923\n",
      "----------------------------\n",
      "相似第4名:  我已經申請程式了,但仍然看不到程式的MENU\n",
      "答案:  請把WDSEC116 程式打開,輸入申請單號,看Apply Status 是否已經是ok 的狀態來判定程式是否已經批核完畢了(請參照圖示說明)\n",
      "相似度: 0.7216343\n",
      "----------------------------\n",
      "相似第5名:  如何大量申請給予同部門or 同課別的程式\n",
      "答案:  請使用WDSEC116 + WDSEC122 批次申請作業,或者是在申請WDSEC116 時勾選 Apply to WHOLE Division or Apply to WHOLE Department(請參照圖示說明)\n",
      "相似度: 0.70864266\n",
      "----------------------------\n"
     ]
    }
   ],
   "source": [
    "#case-2 lsi similarity\n",
    "import gensim_lsi as lsi\n",
    "question = u'請問要申請程式可以找誰?'\n",
    "lsi.preProcess()\n",
    "lsi.lsi_similarity(question)"
   ]
  }
 ],
 "metadata": {
  "kernelspec": {
   "display_name": "Python 3",
   "language": "python",
   "name": "python3"
  },
  "language_info": {
   "codemirror_mode": {
    "name": "ipython",
    "version": 3
   },
   "file_extension": ".py",
   "mimetype": "text/x-python",
   "name": "python",
   "nbconvert_exporter": "python",
   "pygments_lexer": "ipython3",
   "version": "3.6.4"
  }
 },
 "nbformat": 4,
 "nbformat_minor": 2
}
